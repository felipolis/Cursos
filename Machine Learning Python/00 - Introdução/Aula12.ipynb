{
 "cells": [
  {
   "cell_type": "code",
   "execution_count": 2,
   "metadata": {},
   "outputs": [],
   "source": [
    "import pandas as pd\n",
    "alunos = {'Nome':['Ricardo', 'Pedro', 'Roberto', 'Carlos'],\n",
    "          'Nota':[4, 7, 5.5, 9],\n",
    "          'Aprovado':['Não', 'Sim', 'Não', 'Sim']}"
   ]
  },
  {
   "cell_type": "code",
   "execution_count": 3,
   "metadata": {},
   "outputs": [],
   "source": [
    "dataframe = pd.DataFrame(alunos)"
   ]
  },
  {
   "cell_type": "code",
   "execution_count": 4,
   "metadata": {
    "scrolled": true
   },
   "outputs": [
    {
     "name": "stdout",
     "output_type": "stream",
     "text": [
      "      Nome  Nota Aprovado\n",
      "0  Ricardo   4.0      Não\n",
      "1    Pedro   7.0      Sim\n",
      "2  Roberto   5.5      Não\n",
      "3   Carlos   9.0      Sim\n"
     ]
    }
   ],
   "source": [
    "print(dataframe)"
   ]
  },
  {
   "cell_type": "code",
   "execution_count": 5,
   "metadata": {},
   "outputs": [
    {
     "name": "stdout",
     "output_type": "stream",
     "text": [
      "0     2\n",
      "1     6\n",
      "2     8\n",
      "3    18\n",
      "4     5\n",
      "dtype: int64\n"
     ]
    }
   ],
   "source": [
    "objeto1 = pd.Series([2, 6, 8, 18, 5])\n",
    "print(objeto1)"
   ]
  },
  {
   "cell_type": "code",
   "execution_count": 11,
   "metadata": {},
   "outputs": [
    {
     "name": "stdout",
     "output_type": "stream",
     "text": [
      "[ 6 12  7  0  3]\n",
      "[[ 2  6  8 18  5]\n",
      " [ 6 12  7  0  3]]\n"
     ]
    }
   ],
   "source": [
    "import numpy as np\n",
    "array1 = np.array([6, 12, 7, 0, 3])\n",
    "array2 = np.array([(2, 6, 8, 18, 5), (6, 12, 7, 0, 3)])\n",
    "print(array1)\n",
    "print(array2)"
   ]
  },
  {
   "cell_type": "code",
   "execution_count": 14,
   "metadata": {},
   "outputs": [
    {
     "name": "stdout",
     "output_type": "stream",
     "text": [
      "0     6\n",
      "1    12\n",
      "2     7\n",
      "3     0\n",
      "4     3\n",
      "dtype: int32\n"
     ]
    }
   ],
   "source": [
    "objeto2 = pd.Series(array1)\n",
    "print(objeto2)"
   ]
  },
  {
   "cell_type": "code",
   "execution_count": null,
   "metadata": {},
   "outputs": [],
   "source": []
  }
 ],
 "metadata": {
  "kernelspec": {
   "display_name": "Python 3",
   "language": "python",
   "name": "python3"
  },
  "language_info": {
   "codemirror_mode": {
    "name": "ipython",
    "version": 3
   },
   "file_extension": ".py",
   "mimetype": "text/x-python",
   "name": "python",
   "nbconvert_exporter": "python",
   "pygments_lexer": "ipython3",
   "version": "3.8.5"
  }
 },
 "nbformat": 4,
 "nbformat_minor": 4
}
