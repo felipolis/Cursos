{
 "cells": [
  {
   "cell_type": "code",
   "execution_count": null,
   "metadata": {},
   "outputs": [],
   "source": [
    "import pandas as pd\n",
    "\n",
    "# Carregando os dados\n",
    "arquivo = pd.read_csv('./data/Admission_Predict.csv')"
   ]
  },
  {
   "cell_type": "code",
   "execution_count": null,
   "metadata": {},
   "outputs": [],
   "source": [
    "# Visualizando os dados\n",
    "arquivo.head()"
   ]
  },
  {
   "cell_type": "code",
   "execution_count": null,
   "metadata": {},
   "outputs": [],
   "source": [
    "# Removendo a coluna serial number\n",
    "arquivo.drop('Serial No.', axis=1, inplace=True)"
   ]
  },
  {
   "cell_type": "code",
   "execution_count": null,
   "metadata": {},
   "outputs": [],
   "source": [
    "# Separando as variaveis entre preditoras e variavel target\n",
    "y = arquivo['Chance of Admit ']\n",
    "x = arquivo.drop('Chance of Admit ', axis=1)"
   ]
  },
  {
   "cell_type": "code",
   "execution_count": null,
   "metadata": {},
   "outputs": [],
   "source": [
    "import numpy as np\n",
    "from sklearn.model_selection import GridSearchCV\n",
    "from sklearn.tree import DecisionTreeRegressor\n",
    "\n",
    "# Definindo os valores que serão testados em DecisionTree\n",
    "minimos_split = np.array([2,3,4,5,6,7])\n",
    "maximo_nivel = np.array([3,4,5,6,7,9,11])\n",
    "algoritmo = ['squared_error', 'friedman_mse', 'absolute_error', 'poisson']\n",
    "valores_grid = {\n",
    "    'min_samples_split': minimos_split,\n",
    "    'max_depth': maximo_nivel,\n",
    "    'criterion': algoritmo\n",
    "}\n",
    "\n",
    "# Criação do modelo\n",
    "modelo = DecisionTreeRegressor()\n",
    "\n",
    "# Criando os grids\n",
    "gridDecisionTree = GridSearchCV(estimator=modelo, param_grid=valores_grid, cv=5)\n",
    "gridDecisionTree.fit(x, y)\n",
    "\n",
    "# Imprimindo os melhores parametros\n",
    "print(f'Minimo split: {gridDecisionTree.best_estimator_.min_samples_split}')\n",
    "print(f'Maxima profundidade: {gridDecisionTree.best_estimator_.max_depth}')\n",
    "print(f'Algoritmo escolhido: {gridDecisionTree.best_estimator_.criterion}')\n",
    "print(f'Coef. R2: {gridDecisionTree.best_score_}')"
   ]
  }
 ],
 "metadata": {
  "kernelspec": {
   "display_name": "Python 3",
   "language": "python",
   "name": "python3"
  },
  "language_info": {
   "codemirror_mode": {
    "name": "ipython",
    "version": 3
   },
   "file_extension": ".py",
   "mimetype": "text/x-python",
   "name": "python",
   "nbconvert_exporter": "python",
   "pygments_lexer": "ipython3",
   "version": "3.11.1 (tags/v3.11.1:a7a450f, Dec  6 2022, 19:58:39) [MSC v.1934 64 bit (AMD64)]"
  },
  "vscode": {
   "interpreter": {
    "hash": "c812eb984687e98b7686c463c3fae2045e58b2a2b4e065b3dcebe3cb7d51662e"
   }
  }
 },
 "nbformat": 4,
 "nbformat_minor": 4
}
