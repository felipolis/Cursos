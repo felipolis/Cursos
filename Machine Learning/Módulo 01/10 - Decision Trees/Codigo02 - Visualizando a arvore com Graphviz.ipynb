{
 "cells": [
  {
   "cell_type": "code",
   "execution_count": null,
   "metadata": {},
   "outputs": [],
   "source": [
    "from sklearn.datasets import load_iris\n",
    "import pandas as pd\n",
    "\n",
    "# Carrega o dataset iris\n",
    "iris = load_iris()\n",
    "\n",
    "# Divide os dados em features e target\n",
    "x = pd.DataFrame(iris.data, columns=[iris.feature_names])\n",
    "y = pd.Series(iris.target)"
   ]
  },
  {
   "cell_type": "code",
   "execution_count": null,
   "metadata": {},
   "outputs": [],
   "source": [
    "# Visualiza os dados\n",
    "x.head()"
   ]
  },
  {
   "cell_type": "code",
   "execution_count": null,
   "metadata": {},
   "outputs": [],
   "source": [
    "from sklearn.model_selection import cross_val_score\n",
    "from sklearn.model_selection import StratifiedKFold\n",
    "from sklearn.tree import DecisionTreeClassifier\n",
    "\n",
    "# Separando os dados em folds\n",
    "skfold = StratifiedKFold(n_splits=5)\n",
    "\n",
    "# Criação do modelo\n",
    "modelo = DecisionTreeClassifier()\n",
    "\n",
    "# Obtendo a acuracia\n",
    "resultado = cross_val_score(modelo, x, y, cv=skfold)\n",
    "\n",
    "# Imprimindo a acuracia\n",
    "print(resultado.mean())"
   ]
  },
  {
   "cell_type": "code",
   "execution_count": null,
   "metadata": {},
   "outputs": [],
   "source": [
    "import graphviz\n",
    "from sklearn.tree import export_graphviz"
   ]
  },
  {
   "cell_type": "code",
   "execution_count": null,
   "metadata": {},
   "outputs": [],
   "source": [
    "# Criando o arquivo que irá armazenar a arvore\n",
    "arquivo = './trees/arvore1.dot'\n",
    "\n",
    "# Treinando o modelo\n",
    "modelo.fit(x,y)\n",
    "\n",
    "# Gerando o grafico da arvore de decisao\n",
    "export_graphviz(modelo, out_file=arquivo, feature_names=iris.feature_names)\n",
    "with open(arquivo) as aberto:\n",
    "    grafico_dot = aberto.read()\n",
    "h = graphviz.Source(grafico_dot)\n",
    "h.view()"
   ]
  }
 ],
 "metadata": {
  "kernelspec": {
   "display_name": "Python 3",
   "language": "python",
   "name": "python3"
  },
  "language_info": {
   "codemirror_mode": {
    "name": "ipython",
    "version": 3
   },
   "file_extension": ".py",
   "mimetype": "text/x-python",
   "name": "python",
   "nbconvert_exporter": "python",
   "pygments_lexer": "ipython3",
   "version": "3.11.1"
  },
  "vscode": {
   "interpreter": {
    "hash": "c812eb984687e98b7686c463c3fae2045e58b2a2b4e065b3dcebe3cb7d51662e"
   }
  }
 },
 "nbformat": 4,
 "nbformat_minor": 4
}
