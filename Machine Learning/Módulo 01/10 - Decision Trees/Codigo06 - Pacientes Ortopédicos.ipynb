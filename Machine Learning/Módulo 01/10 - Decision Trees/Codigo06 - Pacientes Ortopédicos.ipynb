{
 "cells": [
  {
   "cell_type": "code",
   "execution_count": null,
   "metadata": {},
   "outputs": [],
   "source": [
    "import pandas as pd\n",
    "\n",
    "# Carregando o arquivo csv\n",
    "arquivo = pd.read_csv('./data/column_2C_weka.csv')"
   ]
  },
  {
   "cell_type": "code",
   "execution_count": null,
   "metadata": {},
   "outputs": [],
   "source": [
    "# Visualizando as 5 primeiras linhas do arquivo\n",
    "arquivo.head()"
   ]
  },
  {
   "cell_type": "code",
   "execution_count": null,
   "metadata": {},
   "outputs": [],
   "source": [
    "# Conta a quantidade de valores faltantes em cada coluna\n",
    "faltantes = arquivo.isnull().sum()\n",
    "\n",
    "# Calcula o percentual de valores faltantes em cada coluna\n",
    "faltantes_percentual = (arquivo.isnull().sum() / len(arquivo['pelvic_incidence'])) * 100\n",
    "\n",
    "# Imprime o percentual de valores faltantes em cada coluna\n",
    "print(faltantes_percentual)"
   ]
  },
  {
   "cell_type": "code",
   "execution_count": null,
   "metadata": {},
   "outputs": [],
   "source": [
    "# Verificando os tipos de dados\n",
    "arquivo.dtypes"
   ]
  },
  {
   "cell_type": "code",
   "execution_count": null,
   "metadata": {},
   "outputs": [],
   "source": [
    "# Tranformando a variavel target em numero\n",
    "arquivo['class'] = arquivo['class'].replace('Abnormal', 1)\n",
    "arquivo['class'] = arquivo['class'].replace('Normal', 0)\n",
    "\n",
    "# OBS: as versões mais recentes do sklearn já aceitam strings na variável target, porém ainda não aceitam nas variáveis preditoras (02/02/2023)."
   ]
  },
  {
   "cell_type": "code",
   "execution_count": null,
   "metadata": {
    "scrolled": false
   },
   "outputs": [],
   "source": [
    "arquivo"
   ]
  },
  {
   "cell_type": "code",
   "execution_count": null,
   "metadata": {},
   "outputs": [],
   "source": [
    "# Separando as variaveis entre preditoras e variavel target\n",
    "y = arquivo['class']\n",
    "x = arquivo.drop('class', axis=1)"
   ]
  },
  {
   "cell_type": "code",
   "execution_count": null,
   "metadata": {},
   "outputs": [],
   "source": [
    "import numpy as np\n",
    "from sklearn.model_selection import GridSearchCV\n",
    "from sklearn.tree import DecisionTreeClassifier\n",
    "\n",
    "# Definindo os valores que serão testados em DecisionTree\n",
    "minimos_split = np.array([2,3,4,5,6,7,8])\n",
    "maximo_nivel = np.array([3,4,5,6])\n",
    "algoritmo = ['gini', 'entropy']\n",
    "valores_grid = {\n",
    "    'min_samples_split': minimos_split,\n",
    "    'max_depth': maximo_nivel,\n",
    "    'criterion': algoritmo\n",
    "}\n",
    "\n",
    "# Criação do modelo\n",
    "modelo = DecisionTreeClassifier()\n",
    "\n",
    "# Criando os grids\n",
    "gridDecisionTree = GridSearchCV(estimator=modelo, param_grid=valores_grid, cv=5)\n",
    "gridDecisionTree.fit(x, y)\n",
    "\n",
    "# Imprimindo os melhores parametros\n",
    "print(f'Minimo split: {gridDecisionTree.best_estimator_.min_samples_split}')\n",
    "print(f'Maxima profundidade: {gridDecisionTree.best_estimator_.max_depth}')\n",
    "print(f'Algoritmo escolhido: {gridDecisionTree.best_estimator_.criterion}')\n",
    "print(f'Acuracia: {gridDecisionTree.best_score_}')"
   ]
  }
 ],
 "metadata": {
  "kernelspec": {
   "display_name": "Python 3",
   "language": "python",
   "name": "python3"
  },
  "language_info": {
   "codemirror_mode": {
    "name": "ipython",
    "version": 3
   },
   "file_extension": ".py",
   "mimetype": "text/x-python",
   "name": "python",
   "nbconvert_exporter": "python",
   "pygments_lexer": "ipython3",
   "version": "3.11.1"
  },
  "vscode": {
   "interpreter": {
    "hash": "c812eb984687e98b7686c463c3fae2045e58b2a2b4e065b3dcebe3cb7d51662e"
   }
  }
 },
 "nbformat": 4,
 "nbformat_minor": 4
}
