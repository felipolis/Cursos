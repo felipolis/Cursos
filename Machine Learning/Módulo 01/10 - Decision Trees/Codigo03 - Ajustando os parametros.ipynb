{
 "cells": [
  {
   "cell_type": "code",
   "execution_count": null,
   "metadata": {},
   "outputs": [],
   "source": [
    "from sklearn.datasets import load_iris\n",
    "import pandas as pd\n",
    "\n",
    "# Carregando o dataset\n",
    "iris = load_iris()\n",
    "\n",
    "# Dividindo entre target e features\n",
    "x = pd.DataFrame(iris.data, columns=[iris.feature_names])\n",
    "y = pd.Series(iris.target)"
   ]
  },
  {
   "cell_type": "code",
   "execution_count": null,
   "metadata": {},
   "outputs": [],
   "source": [
    "# Visualizando os dados\n",
    "x.head()"
   ]
  },
  {
   "cell_type": "code",
   "execution_count": null,
   "metadata": {},
   "outputs": [],
   "source": [
    "import numpy as np\n",
    "from sklearn.model_selection import GridSearchCV\n",
    "from sklearn.tree import DecisionTreeClassifier\n",
    "\n",
    "# Definindo os valores que serão testados em DecisionTree\n",
    "minimos_split = np.array([2,3,4,5,6,7,8])\n",
    "maximo_nivel = np.array([3,4,5,6])\n",
    "algoritmo = ['gini', 'entropy']\n",
    "valores_grid = {\n",
    "    'min_samples_split': minimos_split,\n",
    "    'max_depth': maximo_nivel,\n",
    "    'criterion': algoritmo\n",
    "}\n",
    "\n",
    "# Criação do modelo\n",
    "modelo = DecisionTreeClassifier()\n",
    "\n",
    "# Criando os grids\n",
    "gridDecisionTree = GridSearchCV(estimator=modelo, param_grid=valores_grid, cv=5)\n",
    "gridDecisionTree.fit(x, y)\n",
    "\n",
    "# Imprimindo os melhores parametros\n",
    "print(f'Minimo split: {gridDecisionTree.best_estimator_.min_samples_split}')\n",
    "print(f'Maxima profundidade: {gridDecisionTree.best_estimator_.max_depth}')\n",
    "print(f'Algoritmo escolhido: {gridDecisionTree.best_estimator_.criterion}')\n",
    "print(f'Acuracia: {gridDecisionTree.best_score_}')"
   ]
  },
  {
   "cell_type": "code",
   "execution_count": null,
   "metadata": {},
   "outputs": [],
   "source": [
    "import graphviz\n",
    "from sklearn.tree import export_graphviz\n",
    "\n",
    "# Criando o arquivo que irá armazenar a arvore\n",
    "arquivo = './trees/arvore2.dot'\n",
    "melhor_modelo = DecisionTreeClassifier(min_samples_split=3, max_depth=3, criterion='gini')\n",
    "melhor_modelo.fit(x,y)\n",
    "\n",
    "# Gerando o grafico da arvore de decisao\n",
    "export_graphviz(melhor_modelo, out_file=arquivo, feature_names=iris.feature_names)\n",
    "with open(arquivo) as aberto:\n",
    "    grafico_dot = aberto.read()\n",
    "h = graphviz.Source(grafico_dot)\n",
    "h.view()"
   ]
  }
 ],
 "metadata": {
  "kernelspec": {
   "display_name": "Python 3",
   "language": "python",
   "name": "python3"
  },
  "language_info": {
   "codemirror_mode": {
    "name": "ipython",
    "version": 3
   },
   "file_extension": ".py",
   "mimetype": "text/x-python",
   "name": "python",
   "nbconvert_exporter": "python",
   "pygments_lexer": "ipython3",
   "version": "3.11.1"
  },
  "vscode": {
   "interpreter": {
    "hash": "c812eb984687e98b7686c463c3fae2045e58b2a2b4e065b3dcebe3cb7d51662e"
   }
  }
 },
 "nbformat": 4,
 "nbformat_minor": 4
}
