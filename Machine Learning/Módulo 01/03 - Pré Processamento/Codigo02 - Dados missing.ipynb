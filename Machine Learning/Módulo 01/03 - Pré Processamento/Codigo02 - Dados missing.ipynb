{
 "cells": [
  {
   "cell_type": "code",
   "execution_count": null,
   "metadata": {},
   "outputs": [],
   "source": [
    "import pandas as pd\n",
    "\n",
    "# Carregando os dados\n",
    "dados = pd.read_csv('./data/2015-building-energy-benchmarking.csv')\n",
    "\n",
    "# Configurando o pandas para mostrar todas as colunas\n",
    "pd.set_option('display.max_columns', 42)"
   ]
  },
  {
   "cell_type": "code",
   "execution_count": null,
   "metadata": {},
   "outputs": [],
   "source": [
    "# Mostrando as 5 primeiras linhas\n",
    "dados.head()"
   ]
  },
  {
   "cell_type": "code",
   "execution_count": null,
   "metadata": {},
   "outputs": [],
   "source": [
    "# Conta a quantidade de valores nulos por coluna\n",
    "faltantes = dados.isnull().sum()\n",
    "\n",
    "# Calcula o percentual de valores nulos por coluna\n",
    "faltantes_percentual = (dados.isnull().sum() / len(dados['OSEBuildingID'])) * 100\n",
    "\n",
    "# Exibe o percentual de valores nulos por coluna\n",
    "print(faltantes_percentual)"
   ]
  },
  {
   "cell_type": "code",
   "execution_count": null,
   "metadata": {},
   "outputs": [],
   "source": [
    "# Substitui os valores nulos da coluna ENERGYSTARScore pela mediana\n",
    "dados['ENERGYSTARScore'] = dados['ENERGYSTARScore'].fillna(dados['ENERGYSTARScore'].median())"
   ]
  },
  {
   "cell_type": "code",
   "execution_count": null,
   "metadata": {},
   "outputs": [],
   "source": [
    "# Conta a quantidade de valores nulos por coluna\n",
    "faltantes = dados.isnull().sum()\n",
    "\n",
    "# Calcula o percentual de valores nulos por coluna\n",
    "faltantes_percentual = (dados.isnull().sum() / len(dados['OSEBuildingID'])) * 100\n",
    "\n",
    "# Exibe o percentual de valores nulos por coluna\n",
    "print(faltantes_percentual)"
   ]
  }
 ],
 "metadata": {
  "kernelspec": {
   "display_name": "Python 3",
   "language": "python",
   "name": "python3"
  },
  "language_info": {
   "codemirror_mode": {
    "name": "ipython",
    "version": 3
   },
   "file_extension": ".py",
   "mimetype": "text/x-python",
   "name": "python",
   "nbconvert_exporter": "python",
   "pygments_lexer": "ipython3",
   "version": "3.11.1"
  },
  "vscode": {
   "interpreter": {
    "hash": "c812eb984687e98b7686c463c3fae2045e58b2a2b4e065b3dcebe3cb7d51662e"
   }
  }
 },
 "nbformat": 4,
 "nbformat_minor": 4
}
