{
 "cells": [
  {
   "cell_type": "code",
   "execution_count": null,
   "metadata": {
    "scrolled": true
   },
   "outputs": [],
   "source": [
    "import pandas as pd\n",
    "\n",
    "# Configuração para exibir o dataframe sem quebrar as linhas\n",
    "pd.set_option('display.width', 320)\n",
    "\n",
    "# Nome das colunas\n",
    "colunas = ['preg', 'gluc', 'bloo', 'skin', 'insu', 'bmi', 'diab', 'age', 'outc']\n",
    "\n",
    "# Carrega o arquivo de dados\n",
    "dados = pd.read_csv('./data/pima-indians-diabetes.csv', names = colunas)\n",
    "\n",
    "# Exibe a correlação entre as variáveis com o método de Pearson\n",
    "print(dados.corr(method = 'pearson'))"
   ]
  },
  {
   "cell_type": "code",
   "execution_count": null,
   "metadata": {},
   "outputs": [],
   "source": [
    "import pandas as pd\n",
    "import seaborn as sns\n",
    "import matplotlib.pyplot as plt\n",
    "\n",
    "# Nome das colunas\n",
    "colunas = ['preg', 'gluc', 'bloo', 'skin', 'insu', 'bmi', 'diab', 'age', 'outc']\n",
    "\n",
    "# Carrega o arquivo de dados\n",
    "dados = pd.read_csv('./data/pima-indians-diabetes.csv', names = colunas)\n",
    "\n",
    "# Define o tamanho do gráfico\n",
    "plt.figure(figsize=(10,10))\n",
    "\n",
    "# Gera um mapa de calor com a correlação entre as variáveis\n",
    "sns.heatmap(dados.corr())\n",
    "\n",
    "# Exibe o gráfico\n",
    "plt.show()"
   ]
  }
 ],
 "metadata": {
  "kernelspec": {
   "display_name": "Python 3",
   "language": "python",
   "name": "python3"
  },
  "language_info": {
   "codemirror_mode": {
    "name": "ipython",
    "version": 3
   },
   "file_extension": ".py",
   "mimetype": "text/x-python",
   "name": "python",
   "nbconvert_exporter": "python",
   "pygments_lexer": "ipython3",
   "version": "3.11.1 (tags/v3.11.1:a7a450f, Dec  6 2022, 19:58:39) [MSC v.1934 64 bit (AMD64)]"
  },
  "vscode": {
   "interpreter": {
    "hash": "c812eb984687e98b7686c463c3fae2045e58b2a2b4e065b3dcebe3cb7d51662e"
   }
  }
 },
 "nbformat": 4,
 "nbformat_minor": 4
}
