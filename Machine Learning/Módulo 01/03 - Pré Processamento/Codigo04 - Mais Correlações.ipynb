{
 "cells": [
  {
   "cell_type": "code",
   "execution_count": null,
   "metadata": {},
   "outputs": [],
   "source": [
    "import pandas as pd\n",
    "\n",
    "# Configuração para o Pandas não quebrar as linhas\n",
    "pd.set_option('display.width', 320)\n",
    "\n",
    "# Carrega o arquivo de dados\n",
    "dados = pd.read_csv('./data/2015-building-energy-benchmarking.csv')\n",
    "\n",
    "# Configuração para mostrar todas as colunas\n",
    "pd.set_option('display.max_columns', 42)\n",
    "\n",
    "# Mostra as 5 primeiras linhas\n",
    "dados.head()"
   ]
  },
  {
   "cell_type": "code",
   "execution_count": null,
   "metadata": {},
   "outputs": [],
   "source": [
    "import seaborn as sns\n",
    "import matplotlib.pyplot as plt\n",
    "\n",
    "# Define o tamanho do gráfico\n",
    "plt.figure(figsize=(10,10))\n",
    "\n",
    "# Gera um mapa de calor com as correlações numéricas\n",
    "sns.heatmap(dados.corr(numeric_only = True))\n",
    "\n",
    "# Exibe o mapa\n",
    "plt.show()"
   ]
  }
 ],
 "metadata": {
  "kernelspec": {
   "display_name": "Python 3",
   "language": "python",
   "name": "python3"
  },
  "language_info": {
   "codemirror_mode": {
    "name": "ipython",
    "version": 3
   },
   "file_extension": ".py",
   "mimetype": "text/x-python",
   "name": "python",
   "nbconvert_exporter": "python",
   "pygments_lexer": "ipython3",
   "version": "3.11.1"
  },
  "vscode": {
   "interpreter": {
    "hash": "c812eb984687e98b7686c463c3fae2045e58b2a2b4e065b3dcebe3cb7d51662e"
   }
  }
 },
 "nbformat": 4,
 "nbformat_minor": 4
}
