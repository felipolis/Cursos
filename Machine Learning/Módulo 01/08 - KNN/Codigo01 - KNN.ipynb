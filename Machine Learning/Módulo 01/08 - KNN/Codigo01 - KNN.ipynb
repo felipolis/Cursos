{
 "cells": [
  {
   "cell_type": "code",
   "execution_count": null,
   "metadata": {},
   "outputs": [],
   "source": [
    "from sklearn.datasets import load_breast_cancer\n",
    "import pandas as pd\n",
    "\n",
    "# Para mostrar todas as colunas do dataset\n",
    "pd.set_option('display.max_columns', 30)\n",
    "\n",
    "# Carrega o dataset\n",
    "dados = load_breast_cancer()\n",
    "\n",
    "# Dividindo os dados em variaveis preditoras e variavel alvo\n",
    "x = pd.DataFrame(dados.data, columns=[dados.feature_names])     # variaveis preditoras\n",
    "y = pd.Series(dados.target)                                     # variavel alvo"
   ]
  },
  {
   "cell_type": "code",
   "execution_count": null,
   "metadata": {},
   "outputs": [],
   "source": [
    "# Mostra as 5 primeiras linhas do dataset\n",
    "x.head()"
   ]
  },
  {
   "cell_type": "code",
   "execution_count": null,
   "metadata": {},
   "outputs": [],
   "source": [
    "# COM NORMALIZAÇÃO (INDICADO)\n",
    "from sklearn.neighbors import KNeighborsClassifier\n",
    "from sklearn.preprocessing import MinMaxScaler\n",
    "from sklearn.model_selection import train_test_split\n",
    "\n",
    "# Normalizando as variaveis preditoras\n",
    "normalizador = MinMaxScaler(feature_range=(0,1))\n",
    "x_norm = normalizador.fit_transform(x)\n",
    "\n",
    "# Separando os dados entre treino e teste\n",
    "x_treino, x_teste, y_treino, y_teste = train_test_split(x_norm, y, test_size=0.3, random_state=16)\n",
    "\n",
    "# Criação do modelo\n",
    "modelo = KNeighborsClassifier(n_neighbors=5)\n",
    "\n",
    "# Treinamento do modelo\n",
    "modelo.fit(x_treino, y_treino)\n",
    "\n",
    "# Score\n",
    "resultado = modelo.score(x_teste, y_teste)\n",
    "print(f\"Acurácia: {resultado}\")"
   ]
  },
  {
   "cell_type": "code",
   "execution_count": null,
   "metadata": {},
   "outputs": [],
   "source": [
    "# SEM NORMALIZAÇÃO (NÃO INDICADO)\n",
    "from sklearn.neighbors import KNeighborsClassifier\n",
    "from sklearn.model_selection import train_test_split\n",
    "\n",
    "# Normalizando as variaveis preditoras\n",
    "normalizador = MinMaxScaler(feature_range=(0,1))\n",
    "x_norm = normalizador.fit_transform(x)\n",
    "\n",
    "# Separando os dados entre treino e teste\n",
    "x_treino, x_teste, y_treino, y_teste = train_test_split(x, y, test_size=0.3, random_state=16)\n",
    "\n",
    "# Criação do modelo\n",
    "modelo = KNeighborsClassifier(n_neighbors=5)\n",
    "modelo.fit(x_treino, y_treino)\n",
    "\n",
    "# Score\n",
    "resultado = modelo.score(x_teste, y_teste)\n",
    "print(f\"Acurácia: {resultado}\")"
   ]
  },
  {
   "cell_type": "code",
   "execution_count": null,
   "metadata": {},
   "outputs": [],
   "source": [
    "# Referencias\n",
    "# https://scikit-learn.org/stable/modules/generated/sklearn.neighbors.KNeighborsClassifier.html\n",
    "# https://scikit-learn.org/0.24/modules/generated/sklearn.neighbors.DistanceMetric.html"
   ]
  }
 ],
 "metadata": {
  "kernelspec": {
   "display_name": "Python 3",
   "language": "python",
   "name": "python3"
  },
  "language_info": {
   "codemirror_mode": {
    "name": "ipython",
    "version": 3
   },
   "file_extension": ".py",
   "mimetype": "text/x-python",
   "name": "python",
   "nbconvert_exporter": "python",
   "pygments_lexer": "ipython3",
   "version": "3.11.1 (tags/v3.11.1:a7a450f, Dec  6 2022, 19:58:39) [MSC v.1934 64 bit (AMD64)]"
  },
  "vscode": {
   "interpreter": {
    "hash": "c812eb984687e98b7686c463c3fae2045e58b2a2b4e065b3dcebe3cb7d51662e"
   }
  }
 },
 "nbformat": 4,
 "nbformat_minor": 4
}
