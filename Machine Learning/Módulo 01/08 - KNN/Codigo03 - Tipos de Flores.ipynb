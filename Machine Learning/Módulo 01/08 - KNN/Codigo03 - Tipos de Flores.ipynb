{
 "cells": [
  {
   "cell_type": "code",
   "execution_count": null,
   "metadata": {},
   "outputs": [],
   "source": [
    "from sklearn.datasets import load_iris\n",
    "import pandas as pd\n",
    "\n",
    "# Carrega o dataset iris\n",
    "iris = load_iris()\n",
    "\n",
    "# Divide entre variaveis preditoras e variavel alvo\n",
    "x = pd.DataFrame(iris.data, columns=[iris.feature_names])\n",
    "y = pd.Series(iris.target)"
   ]
  },
  {
   "cell_type": "code",
   "execution_count": null,
   "metadata": {},
   "outputs": [],
   "source": [
    "# Visualiza as 5 primeiras linhas do dataset\n",
    "x.head()"
   ]
  },
  {
   "cell_type": "code",
   "execution_count": null,
   "metadata": {},
   "outputs": [],
   "source": [
    "import numpy as np\n",
    "from sklearn.neighbors import KNeighborsClassifier\n",
    "from sklearn.preprocessing import MinMaxScaler\n",
    "from sklearn.model_selection import GridSearchCV\n",
    "\n",
    "# Normalizando as variaveis preditoras\n",
    "normalizador = MinMaxScaler(feature_range=(0,1))\n",
    "x_norm = normalizador.fit_transform(x)\n",
    "\n",
    "# Definindo os valores que serão testados no KNN\n",
    "valores_k = np.array([3, 5, 7, 9, 11])\n",
    "calculo_distancia = ['minkowski', 'chebyshev']\n",
    "valores_p = np.array([1, 2, 3, 4])\n",
    "valores_grid = {\n",
    "    'n_neighbors':valores_k,\n",
    "    'metric':calculo_distancia,\n",
    "    'p':valores_p\n",
    "}\n",
    "\n",
    "# Criação do modelo\n",
    "modelo = KNeighborsClassifier()\n",
    "\n",
    "# Criando os grids\n",
    "gridKNN = GridSearchCV(estimator=modelo, param_grid=valores_grid, cv=5)\n",
    "gridKNN.fit(x_norm, y)\n",
    "\n",
    "# Imprimindo os melhores parametros\n",
    "print(f'Melhor acurácia: {gridKNN.best_score_}')\n",
    "print(f'Melhor K: {gridKNN.best_estimator_.n_neighbors}')\n",
    "print(f'Método distancia: {gridKNN.best_estimator_.metric}')\n",
    "print(f'Melhor valor p: {gridKNN.best_estimator_.p}')"
   ]
  }
 ],
 "metadata": {
  "kernelspec": {
   "display_name": "Python 3",
   "language": "python",
   "name": "python3"
  },
  "language_info": {
   "codemirror_mode": {
    "name": "ipython",
    "version": 3
   },
   "file_extension": ".py",
   "mimetype": "text/x-python",
   "name": "python",
   "nbconvert_exporter": "python",
   "pygments_lexer": "ipython3",
   "version": "3.11.1"
  },
  "vscode": {
   "interpreter": {
    "hash": "c812eb984687e98b7686c463c3fae2045e58b2a2b4e065b3dcebe3cb7d51662e"
   }
  }
 },
 "nbformat": 4,
 "nbformat_minor": 4
}
