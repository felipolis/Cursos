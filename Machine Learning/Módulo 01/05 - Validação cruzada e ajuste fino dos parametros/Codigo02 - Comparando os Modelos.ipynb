{
 "cells": [
  {
   "cell_type": "code",
   "execution_count": null,
   "metadata": {},
   "outputs": [],
   "source": [
    "import pandas as pd\n",
    "\n",
    "# Carregando os dados\n",
    "arquivo = pd.read_csv('./data/Admission_Predict.csv')"
   ]
  },
  {
   "cell_type": "code",
   "execution_count": null,
   "metadata": {},
   "outputs": [],
   "source": [
    "# Exibir as 5 primeiras linhas\n",
    "arquivo.head()"
   ]
  },
  {
   "cell_type": "code",
   "execution_count": null,
   "metadata": {},
   "outputs": [],
   "source": [
    "# Removendo a coluna Serial No.\n",
    "arquivo.drop('Serial No.', axis=1, inplace=True)"
   ]
  },
  {
   "cell_type": "code",
   "execution_count": null,
   "metadata": {},
   "outputs": [],
   "source": [
    "# Separando as variaveis entre preditoras e target\n",
    "y = arquivo['Chance of Admit ']                     # Variável target\n",
    "x = arquivo.drop('Chance of Admit ', axis=1)        # Variáveis preditoras"
   ]
  },
  {
   "cell_type": "code",
   "execution_count": null,
   "metadata": {},
   "outputs": [],
   "source": [
    "# Importando as bibliotecas\n",
    "from sklearn.model_selection import cross_val_score\n",
    "from sklearn.model_selection import KFold"
   ]
  },
  {
   "cell_type": "code",
   "execution_count": null,
   "metadata": {},
   "outputs": [],
   "source": [
    "# Criando a função para os modelos de regressão\n",
    "def kfoldregressionModels(a, b):\n",
    "    from sklearn.linear_model import LinearRegression\n",
    "    from sklearn.linear_model import Ridge\n",
    "    from sklearn.linear_model import Lasso\n",
    "    from sklearn.linear_model import ElasticNet\n",
    "    \n",
    "    kfold = KFold(n_splits=10, shuffle=True)\n",
    "    \n",
    "    x = a\n",
    "    y = b\n",
    "    \n",
    "    reg = LinearRegression()\n",
    "    ridge = Ridge()\n",
    "    lasso = Lasso()\n",
    "    elastic = ElasticNet()\n",
    "    \n",
    "    resul_reg = cross_val_score(reg, x, y, cv=kfold)\n",
    "    resul_ridge = cross_val_score(ridge, x, y, cv=kfold)\n",
    "    resul_lasso = cross_val_score(lasso, x, y, cv=kfold)\n",
    "    resul_elastic = cross_val_score(elastic, x, y, cv=kfold)\n",
    "    \n",
    "    dic_regmodels = {\n",
    "        'Linear':resul_reg.mean(),\n",
    "        'Ridge':resul_ridge.mean(),\n",
    "        'Lasso':resul_lasso.mean(),\n",
    "        'Elastic':resul_elastic.mean()\n",
    "    }\n",
    "    \n",
    "    melhor_modelo = max(dic_regmodels, key=dic_regmodels.get)\n",
    "    \n",
    "    print(f'Regressão Linear: {resul_reg.mean()} \\nRegressão Ridge: {resul_ridge.mean()} \\nRegressão Lasso: {resul_lasso.mean()} \\nRegressão Elastic: {resul_elastic.mean()}')\n",
    "    print(f'O melhor modelo foi: {melhor_modelo}, com valor: {dic_regmodels[melhor_modelo]}')"
   ]
  },
  {
   "cell_type": "code",
   "execution_count": null,
   "metadata": {},
   "outputs": [],
   "source": [
    "# Chamando a função\n",
    "kfoldregressionModels(x, y)"
   ]
  }
 ],
 "metadata": {
  "kernelspec": {
   "display_name": "Python 3",
   "language": "python",
   "name": "python3"
  },
  "language_info": {
   "codemirror_mode": {
    "name": "ipython",
    "version": 3
   },
   "file_extension": ".py",
   "mimetype": "text/x-python",
   "name": "python",
   "nbconvert_exporter": "python",
   "pygments_lexer": "ipython3",
   "version": "3.11.1"
  },
  "vscode": {
   "interpreter": {
    "hash": "c812eb984687e98b7686c463c3fae2045e58b2a2b4e065b3dcebe3cb7d51662e"
   }
  }
 },
 "nbformat": 4,
 "nbformat_minor": 4
}
