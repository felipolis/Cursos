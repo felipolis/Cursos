{
 "cells": [
  {
   "cell_type": "code",
   "execution_count": null,
   "metadata": {},
   "outputs": [],
   "source": [
    "from sklearn.datasets import load_breast_cancer\n",
    "import pandas as pd\n",
    "\n",
    "# Para mostrar todas as colunas\n",
    "pd.set_option('display.max_columns', 30)\n",
    "\n",
    "# Carrega o dataset\n",
    "dados = load_breast_cancer()\n",
    "\n",
    "# Divisão das variáveis preditoras e target\n",
    "x = pd.DataFrame(dados.data, columns=[dados.feature_names])     # Variáveis preditoras\n",
    "y = pd.Series(dados.target)                                     # Variável target"
   ]
  },
  {
   "cell_type": "code",
   "execution_count": null,
   "metadata": {},
   "outputs": [],
   "source": [
    "# Mostra as 5 primeiras linhas das variáveis preditoras\n",
    "x.head()"
   ]
  },
  {
   "cell_type": "code",
   "execution_count": null,
   "metadata": {},
   "outputs": [],
   "source": [
    "# Mostra as 30 primeiras linhas da variável target\n",
    "y.head(30)"
   ]
  },
  {
   "cell_type": "code",
   "execution_count": null,
   "metadata": {},
   "outputs": [],
   "source": [
    "# Mostra a quantidade de linhas e colunas\n",
    "print(x.shape, y.shape)"
   ]
  },
  {
   "cell_type": "code",
   "execution_count": null,
   "metadata": {},
   "outputs": [],
   "source": [
    "import numpy as np\n",
    "from sklearn.linear_model import LogisticRegression\n",
    "from sklearn.model_selection import GridSearchCV\n",
    "\n",
    "# Definindo os valores que serão testados em LogisticRegression\n",
    "valores_C = np.array([0.01, 0.1, 0.5, 1, 2, 3, 5, 10, 50, 100])\n",
    "regularizacao = ['l1', 'l2']\n",
    "valores_grid = {\n",
    "    'C':valores_C,\n",
    "    'penalty':regularizacao\n",
    "}\n",
    "\n",
    "# Criando o modelo\n",
    "modelo = LogisticRegression(solver='liblinear', max_iter=1000)\n",
    "\n",
    "# Criando os grids\n",
    "grid_regressao_logistica = GridSearchCV(estimator=modelo, param_grid=valores_grid, cv=5)\n",
    "\n",
    "# Treinando o modelo\n",
    "grid_regressao_logistica.fit(x, y)\n",
    "\n",
    "# Imprimindo a melhor acurácia e os melhores parametros\n",
    "print(f'Melhor acurácia: {grid_regressao_logistica.best_score_}')\n",
    "print(f'Parametro C: {grid_regressao_logistica.best_estimator_.C}')\n",
    "print(f'Regularização: {grid_regressao_logistica.best_estimator_.penalty}')"
   ]
  },
  {
   "cell_type": "code",
   "execution_count": null,
   "metadata": {},
   "outputs": [],
   "source": [
    "import numpy as np\n",
    "from sklearn.linear_model import LogisticRegression\n",
    "from sklearn.model_selection import GridSearchCV\n",
    "\n",
    "# Definindo os valores que serão testados em LogisticRegression\n",
    "valores_C = np.array([95, 96, 97, 98, 99, 100, 101, 102, 103, 104, 105])\n",
    "valores_grid = {\n",
    "    'C':valores_C,\n",
    "}\n",
    "\n",
    "# Criando o modelo\n",
    "modelo = LogisticRegression(solver='liblinear', max_iter=1000, penalty='l1')\n",
    "\n",
    "# Criando os grids\n",
    "grid_regressao_logistica = GridSearchCV(estimator=modelo, param_grid=valores_grid, cv=5)\n",
    "\n",
    "# Treinando o modelo\n",
    "grid_regressao_logistica.fit(x, y)\n",
    "\n",
    "# Imprimindo a melhor acurácia e os melhores parametros\n",
    "print(f'Melhor acurácia: {grid_regressao_logistica.best_score_}')\n",
    "print(f'Parametro C: {grid_regressao_logistica.best_estimator_.C}')\n",
    "print(f'Regularização: {grid_regressao_logistica.best_estimator_.penalty}')"
   ]
  }
 ],
 "metadata": {
  "kernelspec": {
   "display_name": "Python 3",
   "language": "python",
   "name": "python3"
  },
  "language_info": {
   "codemirror_mode": {
    "name": "ipython",
    "version": 3
   },
   "file_extension": ".py",
   "mimetype": "text/x-python",
   "name": "python",
   "nbconvert_exporter": "python",
   "pygments_lexer": "ipython3",
   "version": "3.11.1 (tags/v3.11.1:a7a450f, Dec  6 2022, 19:58:39) [MSC v.1934 64 bit (AMD64)]"
  },
  "vscode": {
   "interpreter": {
    "hash": "c812eb984687e98b7686c463c3fae2045e58b2a2b4e065b3dcebe3cb7d51662e"
   }
  }
 },
 "nbformat": 4,
 "nbformat_minor": 4
}
