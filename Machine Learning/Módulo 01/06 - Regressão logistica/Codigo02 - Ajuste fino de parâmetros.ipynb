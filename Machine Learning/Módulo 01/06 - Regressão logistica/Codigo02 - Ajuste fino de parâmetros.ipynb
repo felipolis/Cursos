{
 "cells": [
  {
   "cell_type": "code",
   "execution_count": null,
   "metadata": {},
   "outputs": [],
   "source": [
    "import pandas as pd\n",
    "\n",
    "# Configuração para exibir todas as colunas\n",
    "pd.set_option('display.max_columns', 64) \n",
    "\n",
    "# Configuração para exibir todas as linhas\n",
    "pd.set_option('display.max_rows', 64) \n",
    "\n",
    "# Carrega o arquivo\n",
    "arquivo = pd.read_csv('./data/Data_train_reduced.csv') "
   ]
  },
  {
   "cell_type": "code",
   "execution_count": null,
   "metadata": {},
   "outputs": [],
   "source": [
    "# Exibe as 5 primeiras linhas\n",
    "arquivo.head()"
   ]
  },
  {
   "cell_type": "code",
   "execution_count": null,
   "metadata": {},
   "outputs": [],
   "source": [
    "# Exibe a quantidade de linhas e colunas\n",
    "arquivo.shape"
   ]
  },
  {
   "cell_type": "code",
   "execution_count": null,
   "metadata": {},
   "outputs": [],
   "source": [
    "# Exibe os tipos de dados\n",
    "arquivo.dtypes"
   ]
  },
  {
   "cell_type": "code",
   "execution_count": null,
   "metadata": {},
   "outputs": [],
   "source": [
    "# Conta a quantidade de valores faltantes por coluna\n",
    "faltantes = arquivo.isnull().sum() \n",
    "\n",
    "# Calcula o percentual de valores faltantes por coluna\n",
    "faltantes_percentual = (arquivo.isnull().sum() / len(arquivo['Product'])) * 100\n",
    "\n",
    "# Exibe o percentual de valores faltantes por coluna\n",
    "print(faltantes_percentual)"
   ]
  },
  {
   "cell_type": "code",
   "execution_count": null,
   "metadata": {},
   "outputs": [],
   "source": [
    "# Remove as colunas que não serão utilizadas\n",
    "arquivo.drop('q8.20', axis=1, inplace=True)\n",
    "arquivo.drop('q8.18', axis=1, inplace=True)\n",
    "arquivo.drop('q8.17', axis=1, inplace=True)\n",
    "arquivo.drop('q8.8', axis=1, inplace=True)\n",
    "arquivo.drop('q8.9', axis=1, inplace=True)\n",
    "arquivo.drop('q8.10', axis=1, inplace=True)\n",
    "arquivo.drop('q8.2', axis=1, inplace=True)\n",
    "arquivo.drop('Respondent.ID', axis=1, inplace=True)\n",
    "arquivo.drop('Product', axis=1, inplace=True)\n",
    "arquivo.drop('q1_1.personal.opinion.of.this.Deodorant', axis=1, inplace=True)"
   ]
  },
  {
   "cell_type": "code",
   "execution_count": null,
   "metadata": {},
   "outputs": [],
   "source": [
    "# Substitui os valores faltantes pela mediana\n",
    "arquivo['q8.12'].fillna(arquivo['q8.12'].median(), inplace=True)\n",
    "arquivo['q8.7'].fillna(arquivo['q8.7'].median(), inplace=True)"
   ]
  },
  {
   "cell_type": "code",
   "execution_count": null,
   "metadata": {},
   "outputs": [],
   "source": [
    "# Conta a quantidade de valores faltantes por coluna\n",
    "faltantes = arquivo.isnull().sum()\n",
    "\n",
    "# Calcula o percentual de valores faltantes por coluna\n",
    "faltantes_percentual = (arquivo.isnull().sum() / len(arquivo['Product.ID'])) * 100\n",
    "\n",
    "# Exibe o percentual de valores faltantes por coluna\n",
    "print(faltantes_percentual)"
   ]
  },
  {
   "cell_type": "code",
   "execution_count": null,
   "metadata": {},
   "outputs": [],
   "source": [
    "# Separando as variaveis entre preditoras e target\n",
    "y = arquivo['Instant.Liking']                   # Variável target\n",
    "x = arquivo.drop('Instant.Liking', axis=1)      # Variáveis preditoras"
   ]
  },
  {
   "cell_type": "code",
   "execution_count": null,
   "metadata": {},
   "outputs": [],
   "source": [
    "import numpy as np\n",
    "from sklearn.linear_model import LogisticRegression\n",
    "from sklearn.model_selection import GridSearchCV\n",
    "\n",
    "# Definindo os valores que serão testados em LogisticRegression\n",
    "valores_C = np.array([0.01, 0.1, 0.5, 1, 2, 3, 5, 10, 50, 100])\n",
    "regularizacao = ['l1', 'l2']\n",
    "valores_grid = {\n",
    "    'C':valores_C,\n",
    "    'penalty':regularizacao\n",
    "}\n",
    "\n",
    "# Criando o modelo\n",
    "modelo = LogisticRegression(solver='liblinear')\n",
    "\n",
    "# Criando os grids\n",
    "grid_regressao_logistica = GridSearchCV(estimator=modelo, param_grid=valores_grid, cv=5)\n",
    "\n",
    "# Treinando o modelo\n",
    "grid_regressao_logistica.fit(x, y)\n",
    "\n",
    "# Imprimindo a melhor acurácia e os melhores parametros\n",
    "print(f'Melhor acurácia: {grid_regressao_logistica.best_score_}')\n",
    "print(f'Parametro C: {grid_regressao_logistica.best_estimator_.C}')\n",
    "print(f'Regularização: {grid_regressao_logistica.best_estimator_.penalty}')"
   ]
  }
 ],
 "metadata": {
  "kernelspec": {
   "display_name": "Python 3",
   "language": "python",
   "name": "python3"
  },
  "language_info": {
   "codemirror_mode": {
    "name": "ipython",
    "version": 3
   },
   "file_extension": ".py",
   "mimetype": "text/x-python",
   "name": "python",
   "nbconvert_exporter": "python",
   "pygments_lexer": "ipython3",
   "version": "3.11.1"
  },
  "vscode": {
   "interpreter": {
    "hash": "c812eb984687e98b7686c463c3fae2045e58b2a2b4e065b3dcebe3cb7d51662e"
   }
  }
 },
 "nbformat": 4,
 "nbformat_minor": 4
}
