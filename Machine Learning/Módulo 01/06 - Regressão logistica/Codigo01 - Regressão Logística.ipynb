{
 "cells": [
  {
   "cell_type": "code",
   "execution_count": null,
   "metadata": {},
   "outputs": [],
   "source": [
    "import pandas as pd\n",
    "\n",
    "# Configuração para mostrar todas as colunas\n",
    "pd.set_option('display.max_columns', 64)\n",
    "\n",
    "# Configuração para mostrar todas as linhas\n",
    "pd.set_option('display.max_rows', 64)\n",
    "\n",
    "# Carrega o arquivo de dados\n",
    "arquivo = pd.read_csv('./data/Data_train_reduced.csv')"
   ]
  },
  {
   "cell_type": "code",
   "execution_count": null,
   "metadata": {},
   "outputs": [],
   "source": [
    "# Mostra as 5 primeiras linhas do arquivo\n",
    "arquivo.head()"
   ]
  },
  {
   "cell_type": "code",
   "execution_count": null,
   "metadata": {},
   "outputs": [],
   "source": [
    "# Mostra a quantidade de linhas e colunas\n",
    "arquivo.shape"
   ]
  },
  {
   "cell_type": "code",
   "execution_count": null,
   "metadata": {},
   "outputs": [],
   "source": [
    "# Mostra os tipos de dados\n",
    "arquivo.dtypes"
   ]
  },
  {
   "cell_type": "code",
   "execution_count": null,
   "metadata": {},
   "outputs": [],
   "source": [
    "# Conta a quantidade de valores faltantes por coluna\n",
    "faltantes = arquivo.isnull().sum()\n",
    "\n",
    "# Calcula o percentual de valores faltantes por coluna\n",
    "faltantes_percentual = (arquivo.isnull().sum() / len(arquivo['Product'])) * 100\n",
    "\n",
    "# Mostra o percentual de valores faltantes por coluna\n",
    "print(faltantes_percentual)"
   ]
  },
  {
   "cell_type": "code",
   "execution_count": null,
   "metadata": {},
   "outputs": [],
   "source": [
    "\n",
    "# Remove as colunas que não serão utilizadas\n",
    "arquivo.drop('q8.20', axis=1, inplace=True)\n",
    "arquivo.drop('q8.18', axis=1, inplace=True)\n",
    "arquivo.drop('q8.17', axis=1, inplace=True)\n",
    "arquivo.drop('q8.8', axis=1, inplace=True)\n",
    "arquivo.drop('q8.9', axis=1, inplace=True)\n",
    "arquivo.drop('q8.10', axis=1, inplace=True)\n",
    "arquivo.drop('q8.2', axis=1, inplace=True)\n",
    "arquivo.drop('Respondent.ID', axis=1, inplace=True)\n",
    "arquivo.drop('Product', axis=1, inplace=True)\n",
    "arquivo.drop('q1_1.personal.opinion.of.this.Deodorant', axis=1, inplace=True)"
   ]
  },
  {
   "cell_type": "code",
   "execution_count": null,
   "metadata": {},
   "outputs": [],
   "source": [
    "# Substitui os valores faltantes pela mediana\n",
    "arquivo['q8.12'].fillna(arquivo['q8.12'].median(), inplace=True)\n",
    "arquivo['q8.7'].fillna(arquivo['q8.7'].median(), inplace=True)"
   ]
  },
  {
   "cell_type": "code",
   "execution_count": null,
   "metadata": {},
   "outputs": [],
   "source": [
    "# Conta a quantidade de valores faltantes por coluna\n",
    "faltantes = arquivo.isnull().sum()\n",
    "\n",
    "# Calcula o percentual de valores faltantes por coluna\n",
    "faltantes_percentual = (arquivo.isnull().sum() / len(arquivo['Product.ID'])) * 100\n",
    "\n",
    "# Mostra o percentual de valores faltantes por coluna\n",
    "print(faltantes_percentual)"
   ]
  },
  {
   "cell_type": "code",
   "execution_count": null,
   "metadata": {},
   "outputs": [],
   "source": [
    "# Separando as variaveis entre preditoras e target\n",
    "y = arquivo['Instant.Liking']               # Variável target\n",
    "x = arquivo.drop('Instant.Liking', axis=1)  # Variáveis preditoras"
   ]
  },
  {
   "cell_type": "code",
   "execution_count": null,
   "metadata": {},
   "outputs": [],
   "source": [
    "from sklearn.linear_model import LogisticRegression\n",
    "from sklearn.model_selection import cross_val_score\n",
    "from sklearn.model_selection import StratifiedKFold\n",
    "\n",
    "# Separando os dados em folds:\n",
    "stratifiedkfold = StratifiedKFold(n_splits=5)\n",
    "\n",
    "# Criando o modelo\n",
    "modelo = LogisticRegression(penalty='l2', solver='liblinear')\n",
    "\n",
    "# Treinando o modelo\n",
    "resultado = cross_val_score(modelo, x, y, cv=stratifiedkfold)\n",
    "\n",
    "# Imprimindo o resultado do score\n",
    "print(resultado.mean())"
   ]
  },
  {
   "cell_type": "code",
   "execution_count": null,
   "metadata": {},
   "outputs": [],
   "source": [
    "# Referencias\n",
    "# https://scikit-learn.org/stable/modules/generated/sklearn.linear_model.LogisticRegression.html"
   ]
  }
 ],
 "metadata": {
  "kernelspec": {
   "display_name": "Python 3",
   "language": "python",
   "name": "python3"
  },
  "language_info": {
   "codemirror_mode": {
    "name": "ipython",
    "version": 3
   },
   "file_extension": ".py",
   "mimetype": "text/x-python",
   "name": "python",
   "nbconvert_exporter": "python",
   "pygments_lexer": "ipython3",
   "version": "3.11.1"
  },
  "vscode": {
   "interpreter": {
    "hash": "c812eb984687e98b7686c463c3fae2045e58b2a2b4e065b3dcebe3cb7d51662e"
   }
  }
 },
 "nbformat": 4,
 "nbformat_minor": 4
}
