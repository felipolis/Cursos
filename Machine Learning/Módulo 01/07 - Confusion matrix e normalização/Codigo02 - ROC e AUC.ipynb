{
 "cells": [
  {
   "cell_type": "code",
   "execution_count": null,
   "metadata": {},
   "outputs": [],
   "source": [
    "from sklearn.datasets import load_breast_cancer\n",
    "import pandas as pd\n",
    "\n",
    "# Para visualizar todas as colunas\n",
    "pd.set_option('display.max_columns', 30)\n",
    "\n",
    "# Carrega o dataset\n",
    "dados = load_breast_cancer()\n",
    "\n",
    "# Dividindo entre variáveis preditoras e variável alvo\n",
    "x = pd.DataFrame(dados.data, columns=[dados.feature_names])     # Variáveis preditoras\n",
    "y = pd.Series(dados.target)                                     # Variável alvo"
   ]
  },
  {
   "cell_type": "code",
   "execution_count": null,
   "metadata": {},
   "outputs": [],
   "source": [
    "# Visualizando as 5 primeiras linhas das variáveis preditoras\n",
    "x.head()"
   ]
  },
  {
   "cell_type": "code",
   "execution_count": null,
   "metadata": {},
   "outputs": [],
   "source": [
    "# Visualizando as 5 primeiras linhas da variável alvo\n",
    "y.head()"
   ]
  },
  {
   "cell_type": "code",
   "execution_count": null,
   "metadata": {},
   "outputs": [],
   "source": [
    "from sklearn.linear_model import LogisticRegression\n",
    "from sklearn.model_selection import train_test_split\n",
    "\n",
    "# Separando os dados entre treino e teste\n",
    "x_treino, x_teste, y_treino, y_teste = train_test_split(x, y, test_size=0.3, random_state=9)\n",
    "\n",
    "# Criação do modelo\n",
    "modelo = LogisticRegression(C=95, penalty='l1', solver='liblinear')\n",
    "\n",
    "# Treinamento do modelo\n",
    "modelo.fit(x_treino, y_treino)\n",
    "\n",
    "# Obtem a acurácia do modelo\n",
    "resultado = modelo.score(x_teste, y_teste)\n",
    "\n",
    "# Exibe a acurácia do modelo\n",
    "print(f'Acurácia: {resultado}')"
   ]
  },
  {
   "cell_type": "code",
   "execution_count": null,
   "metadata": {},
   "outputs": [],
   "source": [
    "# Probabilidades de cada classe\n",
    "# Usa o método predict_proba() para obter as probabilidades de cada classe, uma vez que o método predict() retorna apenas a classe com maior probabilidade baseada no threshold padrão de 0.5\n",
    "predicoes = modelo.predict_proba(x_teste)"
   ]
  },
  {
   "cell_type": "code",
   "execution_count": null,
   "metadata": {},
   "outputs": [],
   "source": [
    "# Probabilidades de cada classe\n",
    "predicoes"
   ]
  },
  {
   "cell_type": "code",
   "execution_count": null,
   "metadata": {},
   "outputs": [],
   "source": [
    "# Probabilidade de ser 1\n",
    "probs = predicoes[:, 1]\n",
    "print(probs)"
   ]
  },
  {
   "cell_type": "code",
   "execution_count": null,
   "metadata": {},
   "outputs": [],
   "source": [
    "from sklearn.metrics import roc_curve\n",
    "\n",
    "# Obtem os valores de fpr, tpr e thresholds do modelo\n",
    "fpr, tpr, thresholds = roc_curve(y_teste, probs)"
   ]
  },
  {
   "cell_type": "code",
   "execution_count": null,
   "metadata": {},
   "outputs": [],
   "source": [
    "print(f'TPR: {tpr}')\n",
    "print(f'FPR: {fpr}')\n",
    "print(f'Thresholds: {thresholds}')"
   ]
  },
  {
   "cell_type": "code",
   "execution_count": null,
   "metadata": {},
   "outputs": [],
   "source": [
    "import matplotlib.pyplot as plt\n",
    "\n",
    "# Plota o gráfico\n",
    "plt.scatter(fpr, tpr)\n",
    "\n",
    "# Exibe o gráfico\n",
    "plt.show()"
   ]
  },
  {
   "cell_type": "code",
   "execution_count": null,
   "metadata": {},
   "outputs": [],
   "source": [
    "from sklearn.metrics import roc_auc_score\n",
    "\n",
    "# Exibe o valor do AUC\n",
    "print(roc_auc_score(y_teste, probs))"
   ]
  },
  {
   "cell_type": "code",
   "execution_count": null,
   "metadata": {},
   "outputs": [],
   "source": [
    "# Referências\n",
    "# https://scikit-learn.org/stable/modules/generated/sklearn.metrics.roc_curve.html"
   ]
  }
 ],
 "metadata": {
  "kernelspec": {
   "display_name": "Python 3",
   "language": "python",
   "name": "python3"
  },
  "language_info": {
   "codemirror_mode": {
    "name": "ipython",
    "version": 3
   },
   "file_extension": ".py",
   "mimetype": "text/x-python",
   "name": "python",
   "nbconvert_exporter": "python",
   "pygments_lexer": "ipython3",
   "version": "3.11.1"
  },
  "vscode": {
   "interpreter": {
    "hash": "c812eb984687e98b7686c463c3fae2045e58b2a2b4e065b3dcebe3cb7d51662e"
   }
  }
 },
 "nbformat": 4,
 "nbformat_minor": 4
}
