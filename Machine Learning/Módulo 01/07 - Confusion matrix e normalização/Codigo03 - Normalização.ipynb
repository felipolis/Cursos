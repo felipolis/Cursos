{
 "cells": [
  {
   "cell_type": "code",
   "execution_count": null,
   "metadata": {},
   "outputs": [],
   "source": [
    "# MinMaxScaler\n",
    "\n",
    "from sklearn.preprocessing import MinMaxScaler\n",
    "X = [[4, 1, 2, 2],[1, 3, 9, 3],[5, 7, 5, 1]]\n",
    "normalizador = MinMaxScaler(feature_range = (0 , 1))\n",
    "print(normalizador.fit_transform(X))"
   ]
  },
  {
   "cell_type": "code",
   "execution_count": null,
   "metadata": {},
   "outputs": [],
   "source": [
    "# StandardScaler\n",
    "\n",
    "from sklearn.preprocessing import StandardScaler\n",
    "X = [[4, 1, 2, 2],[1, 3, 9, 3],[5, 7, 5, 1]]\n",
    "normalizador = StandardScaler()\n",
    "print(normalizador.fit_transform(X))"
   ]
  },
  {
   "cell_type": "code",
   "execution_count": null,
   "metadata": {},
   "outputs": [],
   "source": [
    "# MaxAbsScaler\n",
    "\n",
    "from sklearn.preprocessing import MaxAbsScaler\n",
    "X = [[4, 1, 2, 2],[1, 3, 9, 3],[5, 7, 5, 1]]\n",
    "normalizador = MaxAbsScaler()\n",
    "print(normalizador.fit_transform(X))"
   ]
  },
  {
   "cell_type": "code",
   "execution_count": null,
   "metadata": {},
   "outputs": [],
   "source": [
    "# Normalize L1\n",
    "\n",
    "from sklearn.preprocessing import normalize\n",
    "X = [[4, 1, 2, 2],[1, 3, 9, 3],[5, 7, 5, 1]]\n",
    "normalizador = normalize(X, norm = 'l1')\n",
    "print(normalizador)"
   ]
  },
  {
   "cell_type": "code",
   "execution_count": null,
   "metadata": {},
   "outputs": [],
   "source": [
    "# Normalize L2\n",
    "\n",
    "from sklearn.preprocessing import normalize\n",
    "X = [[4, 1, 2, 2],[1, 3, 9, 3],[5, 7, 5, 1]]\n",
    "normalizador = normalize(X, norm = 'l2')\n",
    "print(normalizador)"
   ]
  },
  {
   "cell_type": "code",
   "execution_count": null,
   "metadata": {},
   "outputs": [],
   "source": [
    "# Normalize MAX\n",
    "\n",
    "from sklearn.preprocessing import normalize\n",
    "X = [[4, 1, 2, 2],[1, 3, 9, 3],[5, 7, 5, 1]]\n",
    "normalizador = normalize(X, norm = 'max')\n",
    "print(normalizador)\n",
    "\n",
    "# OBS: axis=0 normaliza as colunas e axis=1 normaliza as linhas"
   ]
  }
 ],
 "metadata": {
  "kernelspec": {
   "display_name": "Python 3",
   "language": "python",
   "name": "python3"
  },
  "language_info": {
   "codemirror_mode": {
    "name": "ipython",
    "version": 3
   },
   "file_extension": ".py",
   "mimetype": "text/x-python",
   "name": "python",
   "nbconvert_exporter": "python",
   "pygments_lexer": "ipython3",
   "version": "3.8.5"
  }
 },
 "nbformat": 4,
 "nbformat_minor": 4
}
