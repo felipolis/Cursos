{
 "cells": [
  {
   "cell_type": "code",
   "execution_count": null,
   "metadata": {},
   "outputs": [],
   "source": [
    "import pandas as pd\n",
    "\n",
    "# Para exibir todas as colunas\n",
    "pd.set_option('display.max_columns', 21)\n",
    "\n",
    "# Carrega o arquivo\n",
    "arquivo = pd.read_csv('./data/kc_house_data.csv')"
   ]
  },
  {
   "cell_type": "code",
   "execution_count": null,
   "metadata": {},
   "outputs": [],
   "source": [
    "# Exibe as 5 primeiras linhas\n",
    "arquivo.head()"
   ]
  },
  {
   "cell_type": "code",
   "execution_count": null,
   "metadata": {},
   "outputs": [],
   "source": [
    "# Remove as colunas que não serão utilizadas\n",
    "arquivo.drop('id', axis = 1, inplace = True)\n",
    "arquivo.drop('date', axis = 1, inplace = True)\n",
    "arquivo.drop('zipcode', axis = 1, inplace = True)\n",
    "arquivo.drop('lat', axis = 1, inplace = True)\n",
    "arquivo.drop('long', axis = 1, inplace = True)"
   ]
  },
  {
   "cell_type": "code",
   "execution_count": null,
   "metadata": {},
   "outputs": [],
   "source": [
    "# Exibe as 5 primeiras linhas\n",
    "arquivo.head()"
   ]
  },
  {
   "cell_type": "code",
   "execution_count": null,
   "metadata": {},
   "outputs": [],
   "source": [
    "# Divide o arquivo em variaveis preditoras e variavel alvo\n",
    "y = arquivo['price']                        # Variável alvo\n",
    "x = arquivo.drop('price', axis = 1)         # Variáveis preditoras"
   ]
  },
  {
   "cell_type": "code",
   "execution_count": null,
   "metadata": {},
   "outputs": [],
   "source": [
    "from sklearn.model_selection import train_test_split\n",
    "\n",
    "# Divide o arquivo em treino e teste\n",
    "x_treino, x_teste, y_treino, y_teste = train_test_split(x, y, test_size = 0.30, random_state=14)"
   ]
  },
  {
   "cell_type": "code",
   "execution_count": null,
   "metadata": {},
   "outputs": [],
   "source": [
    "# LINEAR REGRESSION\n",
    "from sklearn.linear_model import LinearRegression\n",
    "modelo = LinearRegression()\n",
    "\n",
    "modelo.fit(x_treino, y_treino)\n",
    "resultado = modelo.score(x_teste, y_teste)\n",
    "print(resultado)"
   ]
  },
  {
   "cell_type": "code",
   "execution_count": null,
   "metadata": {},
   "outputs": [],
   "source": [
    "# RIDGE REGRESSION\n",
    "from sklearn.linear_model import Ridge\n",
    "modeloRidge = Ridge(alpha=10)\n",
    "\n",
    "modeloRidge.fit(x_treino, y_treino)\n",
    "resultadoRidge = modeloRidge.score(x_teste, y_teste)\n",
    "print(resultadoRidge)"
   ]
  },
  {
   "cell_type": "code",
   "execution_count": null,
   "metadata": {},
   "outputs": [],
   "source": [
    "# LASSO REGRESSION\n",
    "from sklearn.linear_model import Lasso\n",
    "modeloLasso = Lasso(alpha=1000, max_iter=1000, tol=0.1)\n",
    "\n",
    "modeloLasso.fit(x_treino, y_treino)\n",
    "resultadoLasso = modeloLasso.score(x_teste, y_teste)\n",
    "print(resultadoLasso)"
   ]
  },
  {
   "cell_type": "code",
   "execution_count": null,
   "metadata": {},
   "outputs": [],
   "source": [
    "# ELASTICNET REGRESSION\n",
    "from sklearn.linear_model import ElasticNet\n",
    "modeloElasticNet = ElasticNet(alpha=1, l1_ratio=0.9, tol=0.2, max_iter=5000)\n",
    "\n",
    "modeloElasticNet.fit(x_treino, y_treino)\n",
    "resultadoElasticNet = modeloElasticNet.score(x_teste, y_teste)\n",
    "print(resultadoElasticNet)"
   ]
  },
  {
   "cell_type": "code",
   "execution_count": null,
   "metadata": {},
   "outputs": [],
   "source": [
    "# Referencias\n",
    "# https://scikit-learn.org/stable/modules/generated/sklearn.linear_model.ElasticNet.html"
   ]
  }
 ],
 "metadata": {
  "kernelspec": {
   "display_name": "Python 3",
   "language": "python",
   "name": "python3"
  },
  "language_info": {
   "codemirror_mode": {
    "name": "ipython",
    "version": 3
   },
   "file_extension": ".py",
   "mimetype": "text/x-python",
   "name": "python",
   "nbconvert_exporter": "python",
   "pygments_lexer": "ipython3",
   "version": "3.11.1"
  },
  "vscode": {
   "interpreter": {
    "hash": "c812eb984687e98b7686c463c3fae2045e58b2a2b4e065b3dcebe3cb7d51662e"
   }
  }
 },
 "nbformat": 4,
 "nbformat_minor": 4
}
