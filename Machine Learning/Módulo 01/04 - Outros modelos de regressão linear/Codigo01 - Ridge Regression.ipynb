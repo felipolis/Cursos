{
 "cells": [
  {
   "cell_type": "code",
   "execution_count": null,
   "metadata": {},
   "outputs": [],
   "source": [
    "import pandas as pd\n",
    "\n",
    "# Configuração do pandas para mostrar todas as colunas do dataset\n",
    "pd.set_option('display.max_columns', 21)\n",
    "\n",
    "# Carrega o dataset\n",
    "arquivo = pd.read_csv('./data/kc_house_data.csv') "
   ]
  },
  {
   "cell_type": "code",
   "execution_count": null,
   "metadata": {},
   "outputs": [],
   "source": [
    "# Mostra as 5 primeiras linhas do dataset\n",
    "arquivo.head()"
   ]
  },
  {
   "cell_type": "code",
   "execution_count": null,
   "metadata": {},
   "outputs": [],
   "source": [
    "# Remove as colunas que não serão utilizadas\n",
    "arquivo.drop('id', axis = 1, inplace = True)\n",
    "arquivo.drop('date', axis = 1, inplace = True)\n",
    "arquivo.drop('zipcode', axis = 1, inplace = True)\n",
    "arquivo.drop('lat', axis = 1, inplace = True)\n",
    "arquivo.drop('long', axis = 1, inplace = True)"
   ]
  },
  {
   "cell_type": "code",
   "execution_count": null,
   "metadata": {},
   "outputs": [],
   "source": [
    "# Mostra as 5 primeiras linhas do dataset\n",
    "arquivo.head()"
   ]
  },
  {
   "cell_type": "code",
   "execution_count": null,
   "metadata": {},
   "outputs": [],
   "source": [
    "# Separa as variável target (y) das variáveis independentes (x)\n",
    "y = arquivo['price']\n",
    "x = arquivo.drop('price', axis = 1)"
   ]
  },
  {
   "cell_type": "code",
   "execution_count": null,
   "metadata": {},
   "outputs": [],
   "source": [
    "from sklearn.model_selection import train_test_split\n",
    "\n",
    "# Divide o dataset em treino e teste\n",
    "x_treino, x_teste, y_treino, y_teste = train_test_split(x, y, test_size = 0.30, random_state=14)"
   ]
  },
  {
   "cell_type": "code",
   "execution_count": null,
   "metadata": {},
   "outputs": [],
   "source": [
    "from sklearn.linear_model import LinearRegression\n",
    "\n",
    "# Cria o modelo de regressão linear\n",
    "modelo = LinearRegression()"
   ]
  },
  {
   "cell_type": "code",
   "execution_count": null,
   "metadata": {},
   "outputs": [],
   "source": [
    "# Treina o modelo\n",
    "modelo.fit(x_treino, y_treino) \n",
    "\n",
    "# Testa o modelo\n",
    "resultado = modelo.score(x_teste, y_teste)\n",
    "\n",
    "# Mostra o resultado\n",
    "print(resultado)"
   ]
  },
  {
   "cell_type": "code",
   "execution_count": null,
   "metadata": {},
   "outputs": [],
   "source": [
    "from sklearn.linear_model import Ridge\n",
    "\n",
    "# Cria o modelo de regressão linear com regularização Ridge\n",
    "modeloRidge = Ridge(alpha=1) #alpha aumenta o peso da regularização\n",
    "\n",
    "# Treina o modelo\n",
    "modeloRidge.fit(x_treino, y_treino)\n",
    "\n",
    "# Testa o modelo\n",
    "resultadoRidge = modeloRidge.score(x_teste, y_teste)\n",
    "\n",
    "# Mostra o resultado\n",
    "print(resultadoRidge)"
   ]
  },
  {
   "cell_type": "code",
   "execution_count": null,
   "metadata": {},
   "outputs": [],
   "source": [
    "# Referências\n",
    "# https://scikit-learn.org/stable/modules/generated/sklearn.linear_model.Ridge.html"
   ]
  }
 ],
 "metadata": {
  "kernelspec": {
   "display_name": "Python 3",
   "language": "python",
   "name": "python3"
  },
  "language_info": {
   "codemirror_mode": {
    "name": "ipython",
    "version": 3
   },
   "file_extension": ".py",
   "mimetype": "text/x-python",
   "name": "python",
   "nbconvert_exporter": "python",
   "pygments_lexer": "ipython3",
   "version": "3.11.1"
  },
  "vscode": {
   "interpreter": {
    "hash": "c812eb984687e98b7686c463c3fae2045e58b2a2b4e065b3dcebe3cb7d51662e"
   }
  }
 },
 "nbformat": 4,
 "nbformat_minor": 4
}
