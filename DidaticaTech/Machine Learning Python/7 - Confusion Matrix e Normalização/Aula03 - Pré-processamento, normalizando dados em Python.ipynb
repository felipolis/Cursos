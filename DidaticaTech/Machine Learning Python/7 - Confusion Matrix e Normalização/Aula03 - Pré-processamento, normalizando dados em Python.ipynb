{
 "cells": [
  {
   "cell_type": "code",
   "execution_count": 5,
   "metadata": {},
   "outputs": [
    {
     "name": "stdout",
     "output_type": "stream",
     "text": [
      "[[0.75       0.         0.         0.5       ]\n",
      " [0.         0.33333333 1.         1.        ]\n",
      " [1.         1.         0.42857143 0.        ]]\n"
     ]
    }
   ],
   "source": [
    "# MinMaxScaler\n",
    "\n",
    "from sklearn.preprocessing import MinMaxScaler\n",
    "X = [[4, 1, 2, 2],[1, 3, 9, 3],[5, 7, 5, 1]]\n",
    "normalizador = MinMaxScaler(feature_range = (0 , 1))\n",
    "print(normalizador.fit_transform(X))"
   ]
  },
  {
   "cell_type": "code",
   "execution_count": 6,
   "metadata": {},
   "outputs": [
    {
     "name": "stdout",
     "output_type": "stream",
     "text": [
      "[[ 0.39223227 -1.06904497 -1.16247639  0.        ]\n",
      " [-1.37281295 -0.26726124  1.27872403  1.22474487]\n",
      " [ 0.98058068  1.33630621 -0.11624764 -1.22474487]]\n"
     ]
    }
   ],
   "source": [
    "# StandardScaler\n",
    "\n",
    "from sklearn.preprocessing import StandardScaler\n",
    "X = [[4, 1, 2, 2],[1, 3, 9, 3],[5, 7, 5, 1]]\n",
    "normalizador = StandardScaler()\n",
    "print(normalizador.fit_transform(X))"
   ]
  },
  {
   "cell_type": "code",
   "execution_count": 8,
   "metadata": {},
   "outputs": [
    {
     "name": "stdout",
     "output_type": "stream",
     "text": [
      "[[0.8        0.14285714 0.22222222 0.66666667]\n",
      " [0.2        0.42857143 1.         1.        ]\n",
      " [1.         1.         0.55555556 0.33333333]]\n"
     ]
    }
   ],
   "source": [
    "# MaxAbsScaler\n",
    "\n",
    "from sklearn.preprocessing import MaxAbsScaler\n",
    "X = [[4, 1, 2, 2],[1, 3, 9, 3],[5, 7, 5, 1]]\n",
    "normalizador = MaxAbsScaler()\n",
    "print(normalizador.fit_transform(X))"
   ]
  },
  {
   "cell_type": "code",
   "execution_count": 10,
   "metadata": {},
   "outputs": [
    {
     "name": "stdout",
     "output_type": "stream",
     "text": [
      "[[0.44444444 0.11111111 0.22222222 0.22222222]\n",
      " [0.0625     0.1875     0.5625     0.1875    ]\n",
      " [0.27777778 0.38888889 0.27777778 0.05555556]]\n"
     ]
    }
   ],
   "source": [
    "# Normalize\n",
    "\n",
    "from sklearn.preprocessing import normalize\n",
    "X = [[4, 1, 2, 2],[1, 3, 9, 3],[5, 7, 5, 1]]\n",
    "normalizador = normalize(X, norm = 'l1')\n",
    "print(normalizador)"
   ]
  },
  {
   "cell_type": "code",
   "execution_count": 11,
   "metadata": {},
   "outputs": [
    {
     "name": "stdout",
     "output_type": "stream",
     "text": [
      "[[0.8 0.2 0.4 0.4]\n",
      " [0.1 0.3 0.9 0.3]\n",
      " [0.5 0.7 0.5 0.1]]\n"
     ]
    }
   ],
   "source": [
    "from sklearn.preprocessing import normalize\n",
    "X = [[4, 1, 2, 2],[1, 3, 9, 3],[5, 7, 5, 1]]\n",
    "normalizador = normalize(X, norm = 'l2')\n",
    "print(normalizador)"
   ]
  },
  {
   "cell_type": "code",
   "execution_count": 12,
   "metadata": {},
   "outputs": [
    {
     "name": "stdout",
     "output_type": "stream",
     "text": [
      "[[1.         0.25       0.5        0.5       ]\n",
      " [0.11111111 0.33333333 1.         0.33333333]\n",
      " [0.71428571 1.         0.71428571 0.14285714]]\n"
     ]
    }
   ],
   "source": [
    "from sklearn.preprocessing import normalize\n",
    "X = [[4, 1, 2, 2],[1, 3, 9, 3],[5, 7, 5, 1]]\n",
    "normalizador = normalize(X, norm = 'max') #axis=0 normaliza as colunas\n",
    "print(normalizador)"
   ]
  },
  {
   "cell_type": "code",
   "execution_count": null,
   "metadata": {},
   "outputs": [],
   "source": []
  }
 ],
 "metadata": {
  "kernelspec": {
   "display_name": "Python 3",
   "language": "python",
   "name": "python3"
  },
  "language_info": {
   "codemirror_mode": {
    "name": "ipython",
    "version": 3
   },
   "file_extension": ".py",
   "mimetype": "text/x-python",
   "name": "python",
   "nbconvert_exporter": "python",
   "pygments_lexer": "ipython3",
   "version": "3.8.5"
  }
 },
 "nbformat": 4,
 "nbformat_minor": 4
}
